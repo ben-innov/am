{
    "metadata": {
        "kernelspec": {
            "name": "python3",
            "display_name": "Python 3 (ipykernel)",
            "language": "python"
        },
        "language_info": {
            "name": "python",
            "version": "3.8.10",
            "mimetype": "text/x-python",
            "codemirror_mode": {
                "name": "ipython",
                "version": 3
            },
            "pygments_lexer": "ipython3",
            "nbconvert_exporter": "python",
            "file_extension": ".py"
        }
    },
    "nbformat_minor": 2,
    "nbformat": 4,
    "cells": [
        {
            "cell_type": "code",
            "source": [
                "import pandas as pd\n",
                "\n",
                "df = pd.read_csv('dmr7days.csv')\n",
                "\n",
                "df.head(1000)"
            ],
            "metadata": {
                "azdata_cell_guid": "baaa726b-4669-4d66-b26c-9534b33cf0a3",
                "language": "python"
            },
            "outputs": [
                {
                    "data": {
                        "text/plain": "       ID    Summary_Group     Summary_Type FormatCode      Day1      Day2  \\\n0       1  Key Staticstics   Room Available          N    256.00    256.00   \n1       2  Key Staticstics    Room Occupied          N     44.00     58.00   \n2       3  Key Staticstics       # of Guest          N     72.00     89.00   \n3       4  Key Staticstics     Room Density         N2      1.64      1.53   \n4       5  Key Staticstics   No of Arrivals          N       NaN       NaN   \n..    ...              ...              ...        ...       ...       ...   \n995   996  Key Staticstics   Avg Daily Rate         C2    158.86    173.85   \n996   997  Key Staticstics           RevPAR         C2     14.27     39.39   \n997   998    Total Revenue    Total Revenue          C  11719.19  11040.59   \n998   999    Total Revenue    Total Rev POR          C     45.78     43.13   \n999  1000    Total Revenue  Avg Spend/Guest         C2    334.83    103.18   \n\n         Day3     Day4     Day5     Day6     Day7     Total          BatchNo  \\\n0      256.00   256.00   256.00   256.00   256.00   1792.00  20220419-070026   \n1       46.00    44.00   105.00   137.00    35.00    469.00  20220419-070026   \n2       80.00    73.00   174.00   260.00    63.00    811.00  20220419-070026   \n3        1.74     1.66     1.66     1.90     1.80      1.73  20220419-070026   \n4         NaN      NaN      NaN      NaN      NaN      0.00  20220419-070026   \n..        ...      ...      ...      ...      ...       ...              ...   \n995    208.43   139.30   150.90   156.23   140.19    173.32  20220419-070329   \n996     72.46    17.41    12.97    18.31    12.05     26.69  20220419-070329   \n997  21140.97  5554.39  3709.63  5260.14  3340.92  61765.83  20220419-070329   \n998     82.58    21.70    14.49    20.55    13.05     34.47  20220419-070329   \n999    123.63   104.80   103.05   107.35    98.26    127.35  20220419-070329   \n\n      AuditDate  Hotel_ID  \n0    2021-12-19         1  \n1    2021-12-19         1  \n2    2021-12-19         1  \n3    2021-12-19         1  \n4    2021-12-19         1  \n..          ...       ...  \n995  2022-02-09         1  \n996  2022-02-09         1  \n997  2022-02-09         1  \n998  2022-02-09         1  \n999  2022-02-09         1  \n\n[1000 rows x 15 columns]",
                        "text/html": "<div>\n<style scoped>\n    .dataframe tbody tr th:only-of-type {\n        vertical-align: middle;\n    }\n\n    .dataframe tbody tr th {\n        vertical-align: top;\n    }\n\n    .dataframe thead th {\n        text-align: right;\n    }\n</style>\n<table border=\"1\" class=\"dataframe\">\n  <thead>\n    <tr style=\"text-align: right;\">\n      <th></th>\n      <th>ID</th>\n      <th>Summary_Group</th>\n      <th>Summary_Type</th>\n      <th>FormatCode</th>\n      <th>Day1</th>\n      <th>Day2</th>\n      <th>Day3</th>\n      <th>Day4</th>\n      <th>Day5</th>\n      <th>Day6</th>\n      <th>Day7</th>\n      <th>Total</th>\n      <th>BatchNo</th>\n      <th>AuditDate</th>\n      <th>Hotel_ID</th>\n    </tr>\n  </thead>\n  <tbody>\n    <tr>\n      <th>0</th>\n      <td>1</td>\n      <td>Key Staticstics</td>\n      <td>Room Available</td>\n      <td>N</td>\n      <td>256.00</td>\n      <td>256.00</td>\n      <td>256.00</td>\n      <td>256.00</td>\n      <td>256.00</td>\n      <td>256.00</td>\n      <td>256.00</td>\n      <td>1792.00</td>\n      <td>20220419-070026</td>\n      <td>2021-12-19</td>\n      <td>1</td>\n    </tr>\n    <tr>\n      <th>1</th>\n      <td>2</td>\n      <td>Key Staticstics</td>\n      <td>Room Occupied</td>\n      <td>N</td>\n      <td>44.00</td>\n      <td>58.00</td>\n      <td>46.00</td>\n      <td>44.00</td>\n      <td>105.00</td>\n      <td>137.00</td>\n      <td>35.00</td>\n      <td>469.00</td>\n      <td>20220419-070026</td>\n      <td>2021-12-19</td>\n      <td>1</td>\n    </tr>\n    <tr>\n      <th>2</th>\n      <td>3</td>\n      <td>Key Staticstics</td>\n      <td># of Guest</td>\n      <td>N</td>\n      <td>72.00</td>\n      <td>89.00</td>\n      <td>80.00</td>\n      <td>73.00</td>\n      <td>174.00</td>\n      <td>260.00</td>\n      <td>63.00</td>\n      <td>811.00</td>\n      <td>20220419-070026</td>\n      <td>2021-12-19</td>\n      <td>1</td>\n    </tr>\n    <tr>\n      <th>3</th>\n      <td>4</td>\n      <td>Key Staticstics</td>\n      <td>Room Density</td>\n      <td>N2</td>\n      <td>1.64</td>\n      <td>1.53</td>\n      <td>1.74</td>\n      <td>1.66</td>\n      <td>1.66</td>\n      <td>1.90</td>\n      <td>1.80</td>\n      <td>1.73</td>\n      <td>20220419-070026</td>\n      <td>2021-12-19</td>\n      <td>1</td>\n    </tr>\n    <tr>\n      <th>4</th>\n      <td>5</td>\n      <td>Key Staticstics</td>\n      <td>No of Arrivals</td>\n      <td>N</td>\n      <td>NaN</td>\n      <td>NaN</td>\n      <td>NaN</td>\n      <td>NaN</td>\n      <td>NaN</td>\n      <td>NaN</td>\n      <td>NaN</td>\n      <td>0.00</td>\n      <td>20220419-070026</td>\n      <td>2021-12-19</td>\n      <td>1</td>\n    </tr>\n    <tr>\n      <th>...</th>\n      <td>...</td>\n      <td>...</td>\n      <td>...</td>\n      <td>...</td>\n      <td>...</td>\n      <td>...</td>\n      <td>...</td>\n      <td>...</td>\n      <td>...</td>\n      <td>...</td>\n      <td>...</td>\n      <td>...</td>\n      <td>...</td>\n      <td>...</td>\n      <td>...</td>\n    </tr>\n    <tr>\n      <th>995</th>\n      <td>996</td>\n      <td>Key Staticstics</td>\n      <td>Avg Daily Rate</td>\n      <td>C2</td>\n      <td>158.86</td>\n      <td>173.85</td>\n      <td>208.43</td>\n      <td>139.30</td>\n      <td>150.90</td>\n      <td>156.23</td>\n      <td>140.19</td>\n      <td>173.32</td>\n      <td>20220419-070329</td>\n      <td>2022-02-09</td>\n      <td>1</td>\n    </tr>\n    <tr>\n      <th>996</th>\n      <td>997</td>\n      <td>Key Staticstics</td>\n      <td>RevPAR</td>\n      <td>C2</td>\n      <td>14.27</td>\n      <td>39.39</td>\n      <td>72.46</td>\n      <td>17.41</td>\n      <td>12.97</td>\n      <td>18.31</td>\n      <td>12.05</td>\n      <td>26.69</td>\n      <td>20220419-070329</td>\n      <td>2022-02-09</td>\n      <td>1</td>\n    </tr>\n    <tr>\n      <th>997</th>\n      <td>998</td>\n      <td>Total Revenue</td>\n      <td>Total Revenue</td>\n      <td>C</td>\n      <td>11719.19</td>\n      <td>11040.59</td>\n      <td>21140.97</td>\n      <td>5554.39</td>\n      <td>3709.63</td>\n      <td>5260.14</td>\n      <td>3340.92</td>\n      <td>61765.83</td>\n      <td>20220419-070329</td>\n      <td>2022-02-09</td>\n      <td>1</td>\n    </tr>\n    <tr>\n      <th>998</th>\n      <td>999</td>\n      <td>Total Revenue</td>\n      <td>Total Rev POR</td>\n      <td>C</td>\n      <td>45.78</td>\n      <td>43.13</td>\n      <td>82.58</td>\n      <td>21.70</td>\n      <td>14.49</td>\n      <td>20.55</td>\n      <td>13.05</td>\n      <td>34.47</td>\n      <td>20220419-070329</td>\n      <td>2022-02-09</td>\n      <td>1</td>\n    </tr>\n    <tr>\n      <th>999</th>\n      <td>1000</td>\n      <td>Total Revenue</td>\n      <td>Avg Spend/Guest</td>\n      <td>C2</td>\n      <td>334.83</td>\n      <td>103.18</td>\n      <td>123.63</td>\n      <td>104.80</td>\n      <td>103.05</td>\n      <td>107.35</td>\n      <td>98.26</td>\n      <td>127.35</td>\n      <td>20220419-070329</td>\n      <td>2022-02-09</td>\n      <td>1</td>\n    </tr>\n  </tbody>\n</table>\n<p>1000 rows × 15 columns</p>\n</div>"
                    },
                    "metadata": {},
                    "execution_count": 46,
                    "output_type": "execute_result"
                }
            ],
            "execution_count": 46
        },
        {
            "cell_type": "code",
            "source": [
                "# Focus on Key Statistics First\n",
                "# Decide on Data Structure: Column of 7dayMA for each Summary Statistic\n",
                "\n",
                "# Calculate 7dayMA\n",
                "cols = ['Day1', 'Day2', 'Day3', 'Day4', 'Day5', 'Day6', 'Day7']\n",
                "df['7dayMA'] = df[cols].astype(float).mean(axis=1)\n",
                "\n",
                "# Create wide table of KeyStats timeseries\n",
                "df = df.pivot(index='AuditDate', columns='Summary_Type', values='7dayMA')\n",
                "\n",
                "#Start 2022\n",
                "df = df[df.index > '2021-12-31']\n",
                "\n",
                "df.head()"
            ],
            "metadata": {
                "language": "python",
                "azdata_cell_guid": "450aadfe-82b7-428c-8d11-a3012c51e646"
            },
            "outputs": [
                {
                    "data": {
                        "text/plain": "Summary_Type  # of Guest  Avg Bkfst Spend/Cover  Avg Daily Rate  \\\nAuditDate                                                         \n2022-01-01     87.857143                    0.0      287.150000   \n2022-01-02     74.142857                    0.0      232.910000   \n2022-01-03     62.857143                    0.0      207.533333   \n2022-01-04     60.428571                    0.0      206.232500   \n2022-01-05     61.000000                    0.0      200.092000   \n\nSummary_Type  Avg Spend/Guest  Breakfast Capture %  Car Parking  F&B Revenue  \\\nAuditDate                                                                      \n2022-01-01         172.270000            44.440000          NaN   662.280000   \n2022-01-02         141.450000            78.410000          NaN   411.365000   \n2022-01-03         124.716667            74.193333          NaN   279.393333   \n2022-01-04         123.560000            44.870000          NaN   249.500000   \n2022-01-05         119.972000            20.288000          NaN   231.164000   \n\nSummary_Type  Forward Holding  No of Arrivals  No of Departure  Occupancy %  \\\nAuditDate                                                                     \n2022-01-01                NaN       10.000000        41.000000    17.690000   \n2022-01-02                NaN       15.500000        50.000000    14.564286   \n2022-01-03                NaN       22.333333        56.333333    12.275714   \n2022-01-04                NaN       31.500000        61.000000    12.051429   \n2022-01-05                NaN       39.400000        66.400000    12.218571   \n\nSummary_Type  Other Revenue  RevPAR  Room Available  Room Density  \\\nAuditDate                                                           \n2022-01-01          313.370  25.800           256.0      1.945714   \n2022-01-02          361.925  18.485           256.0      1.971429   \n2022-01-03          324.920  16.610           256.0      1.965714   \n2022-01-04          383.075  19.965           256.0      1.932857   \n2022-01-05          433.554  21.046           256.0      1.925714   \n\nSummary_Type  Room Occupied  Room Revenue  Total Rev POR  Total Revenue  \nAuditDate                                                                \n2022-01-01        45.285714   6604.390000        29.6100       7580.040  \n2022-01-02        37.285714   4731.515000        21.5050       5504.805  \n2022-01-03        31.428571   4251.796667        18.9700       4856.110  \n2022-01-04        30.857143   5111.020000        22.4375       5743.595  \n2022-01-05        31.285714   5387.762000        23.6440       6052.480  ",
                        "text/html": "<div>\n<style scoped>\n    .dataframe tbody tr th:only-of-type {\n        vertical-align: middle;\n    }\n\n    .dataframe tbody tr th {\n        vertical-align: top;\n    }\n\n    .dataframe thead th {\n        text-align: right;\n    }\n</style>\n<table border=\"1\" class=\"dataframe\">\n  <thead>\n    <tr style=\"text-align: right;\">\n      <th>Summary_Type</th>\n      <th># of Guest</th>\n      <th>Avg Bkfst Spend/Cover</th>\n      <th>Avg Daily Rate</th>\n      <th>Avg Spend/Guest</th>\n      <th>Breakfast Capture %</th>\n      <th>Car Parking</th>\n      <th>F&amp;B Revenue</th>\n      <th>Forward Holding</th>\n      <th>No of Arrivals</th>\n      <th>No of Departure</th>\n      <th>Occupancy %</th>\n      <th>Other Revenue</th>\n      <th>RevPAR</th>\n      <th>Room Available</th>\n      <th>Room Density</th>\n      <th>Room Occupied</th>\n      <th>Room Revenue</th>\n      <th>Total Rev POR</th>\n      <th>Total Revenue</th>\n    </tr>\n    <tr>\n      <th>AuditDate</th>\n      <th></th>\n      <th></th>\n      <th></th>\n      <th></th>\n      <th></th>\n      <th></th>\n      <th></th>\n      <th></th>\n      <th></th>\n      <th></th>\n      <th></th>\n      <th></th>\n      <th></th>\n      <th></th>\n      <th></th>\n      <th></th>\n      <th></th>\n      <th></th>\n      <th></th>\n    </tr>\n  </thead>\n  <tbody>\n    <tr>\n      <th>2022-01-01</th>\n      <td>87.857143</td>\n      <td>0.0</td>\n      <td>287.150000</td>\n      <td>172.270000</td>\n      <td>44.440000</td>\n      <td>NaN</td>\n      <td>662.280000</td>\n      <td>NaN</td>\n      <td>10.000000</td>\n      <td>41.000000</td>\n      <td>17.690000</td>\n      <td>313.370</td>\n      <td>25.800</td>\n      <td>256.0</td>\n      <td>1.945714</td>\n      <td>45.285714</td>\n      <td>6604.390000</td>\n      <td>29.6100</td>\n      <td>7580.040</td>\n    </tr>\n    <tr>\n      <th>2022-01-02</th>\n      <td>74.142857</td>\n      <td>0.0</td>\n      <td>232.910000</td>\n      <td>141.450000</td>\n      <td>78.410000</td>\n      <td>NaN</td>\n      <td>411.365000</td>\n      <td>NaN</td>\n      <td>15.500000</td>\n      <td>50.000000</td>\n      <td>14.564286</td>\n      <td>361.925</td>\n      <td>18.485</td>\n      <td>256.0</td>\n      <td>1.971429</td>\n      <td>37.285714</td>\n      <td>4731.515000</td>\n      <td>21.5050</td>\n      <td>5504.805</td>\n    </tr>\n    <tr>\n      <th>2022-01-03</th>\n      <td>62.857143</td>\n      <td>0.0</td>\n      <td>207.533333</td>\n      <td>124.716667</td>\n      <td>74.193333</td>\n      <td>NaN</td>\n      <td>279.393333</td>\n      <td>NaN</td>\n      <td>22.333333</td>\n      <td>56.333333</td>\n      <td>12.275714</td>\n      <td>324.920</td>\n      <td>16.610</td>\n      <td>256.0</td>\n      <td>1.965714</td>\n      <td>31.428571</td>\n      <td>4251.796667</td>\n      <td>18.9700</td>\n      <td>4856.110</td>\n    </tr>\n    <tr>\n      <th>2022-01-04</th>\n      <td>60.428571</td>\n      <td>0.0</td>\n      <td>206.232500</td>\n      <td>123.560000</td>\n      <td>44.870000</td>\n      <td>NaN</td>\n      <td>249.500000</td>\n      <td>NaN</td>\n      <td>31.500000</td>\n      <td>61.000000</td>\n      <td>12.051429</td>\n      <td>383.075</td>\n      <td>19.965</td>\n      <td>256.0</td>\n      <td>1.932857</td>\n      <td>30.857143</td>\n      <td>5111.020000</td>\n      <td>22.4375</td>\n      <td>5743.595</td>\n    </tr>\n    <tr>\n      <th>2022-01-05</th>\n      <td>61.000000</td>\n      <td>0.0</td>\n      <td>200.092000</td>\n      <td>119.972000</td>\n      <td>20.288000</td>\n      <td>NaN</td>\n      <td>231.164000</td>\n      <td>NaN</td>\n      <td>39.400000</td>\n      <td>66.400000</td>\n      <td>12.218571</td>\n      <td>433.554</td>\n      <td>21.046</td>\n      <td>256.0</td>\n      <td>1.925714</td>\n      <td>31.285714</td>\n      <td>5387.762000</td>\n      <td>23.6440</td>\n      <td>6052.480</td>\n    </tr>\n  </tbody>\n</table>\n</div>"
                    },
                    "metadata": {},
                    "execution_count": 47,
                    "output_type": "execute_result"
                }
            ],
            "execution_count": 47
        },
        {
            "cell_type": "code",
            "source": [
                "# TODO: Visual Concepts\n",
                "\n",
                ""
            ],
            "metadata": {
                "language": "python",
                "azdata_cell_guid": "4fceb64b-eeed-4dbb-8b26-326e7143ead7"
            },
            "outputs": [],
            "execution_count": 47
        }
    ]
}