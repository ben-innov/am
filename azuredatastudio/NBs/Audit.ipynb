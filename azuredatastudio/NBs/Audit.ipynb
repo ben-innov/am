{
    "metadata": {
        "kernelspec": {
            "name": "python3",
            "display_name": "Python 3 (ipykernel)",
            "language": "python"
        },
        "language_info": {
            "name": "python",
            "version": "3.8.10",
            "mimetype": "text/x-python",
            "codemirror_mode": {
                "name": "ipython",
                "version": 3
            },
            "pygments_lexer": "ipython3",
            "nbconvert_exporter": "python",
            "file_extension": ".py"
        }
    },
    "nbformat_minor": 2,
    "nbformat": 4,
    "cells": [
        {
            "cell_type": "code",
            "source": [
                "import pandas as pd\n",
                "\n",
                "\n",
                "a_nas_pdf = pd.read_csv('../data/a_nas_pdf.csv', dtype=str)\n",
                "a_nas = pd.read_csv('../data/a_nas.csv', dtype=str)\n",
                "\n",
                "s_nas_pdf = pd.read_csv('../data/s_nas_pdf.csv', dtype=str)\n",
                "s_nas = pd.read_csv('../data/s_nas.csv', dtype=str)\n",
                "\n",
                "s_na = pd.read_csv('../data/s_na.csv', dtype=str)\n",
                "\n",
                "logs = [a_nas_pdf, a_nas, s_nas_pdf,  s_nas, s_na]\n",
                ""
            ],
            "metadata": {
                "azdata_cell_guid": "b88dd54e-e447-4799-810f-f0fe485ef3c8",
                "language": "python"
            },
            "outputs": [],
            "execution_count": 282
        },
        {
            "cell_type": "code",
            "source": [
                "# Drop YML User Actions\n",
                "YML = ['1', '2', '3', '4', '6', '13', '14', '25']\n",
                "\n",
                "def drop_yml_users(df):\n",
                "    df = df[~df['User_ID'].isin(YML)]\n",
                "    df.reset_index(drop=True, inplace=True)\n",
                "    return df\n",
                "\n",
                "# Process Date\n",
                "def date_processing(df):\n",
                "    df.Dated = pd.to_datetime(df.Dated)\n",
                "    df.reset_index(drop=True, inplace=True)\n",
                "\n",
                "    df['Date'] = df.Dated.dt.date\n",
                "    df['Year'] = df.Dated.dt.year\n",
                "    df['Month'] = df.Dated.dt.month\n",
                "    df['Day'] = df.Dated.dt.day\n",
                "    df['Week'] = df.Dated.dt.isocalendar().week\n",
                "    df['WeekDay'] = df.Dated.dt.weekday\n",
                "\n",
                "    return df\n",
                "\n",
                "def drop_actions_without_reportID(df):\n",
                "    df = df[df['NASReport_ID'] != '0']\n",
                "    return df\n",
                ""
            ],
            "metadata": {
                "language": "python",
                "azdata_cell_guid": "c74a96bb-7c71-4288-846f-d2d4ada15a26",
                "tags": []
            },
            "outputs": [],
            "execution_count": 283
        },
        {
            "cell_type": "code",
            "source": [
                "s_nas = drop_yml_users(s_nas)\n",
                "s_nas = date_processing(s_nas)\n",
                "s_nas = drop_actions_without_reportID(s_nas)\n",
                "s_nas.head()\n",
                "\n",
                "# TODO: Join hotelID\n",
                "\n",
                "# TODO: Actions where NASReport_ID = 0, investigate later, report?\n",
                "\n",
                "\n",
                "# Distinct Action Types\n",
                "# Only 'Viewed' / 'Sent'\n",
                "s_nas.Action.str.split(n = 1, expand=True)[0].unique()\n",
                "\n",
                "s_nas['SimpleAction'] = s_nas.Action.str.split(n = 1, expand=True)[0]\n",
                "\n",
                ""
            ],
            "metadata": {
                "azdata_cell_guid": "c11ba4e4-df61-4e03-9120-c34cc829e27a",
                "language": "python"
            },
            "outputs": [
                {
                    "name": "stderr",
                    "text": "/home/ben/.local/lib/python3.8/site-packages/pandas/core/generic.py:5516: SettingWithCopyWarning: \nA value is trying to be set on a copy of a slice from a DataFrame.\nTry using .loc[row_indexer,col_indexer] = value instead\n\nSee the caveats in the documentation: https://pandas.pydata.org/pandas-docs/stable/user_guide/indexing.html#returning-a-view-versus-a-copy\n  self[name] = value\n/tmp/ipykernel_86653/4224403825.py:14: SettingWithCopyWarning: \nA value is trying to be set on a copy of a slice from a DataFrame.\nTry using .loc[row_indexer,col_indexer] = value instead\n\nSee the caveats in the documentation: https://pandas.pydata.org/pandas-docs/stable/user_guide/indexing.html#returning-a-view-versus-a-copy\n  df['Date'] = df.Dated.dt.date\n/tmp/ipykernel_86653/4224403825.py:15: SettingWithCopyWarning: \nA value is trying to be set on a copy of a slice from a DataFrame.\nTry using .loc[row_indexer,col_indexer] = value instead\n\nSee the caveats in the documentation: https://pandas.pydata.org/pandas-docs/stable/user_guide/indexing.html#returning-a-view-versus-a-copy\n  df['Year'] = df.Dated.dt.year\n/tmp/ipykernel_86653/4224403825.py:16: SettingWithCopyWarning: \nA value is trying to be set on a copy of a slice from a DataFrame.\nTry using .loc[row_indexer,col_indexer] = value instead\n\nSee the caveats in the documentation: https://pandas.pydata.org/pandas-docs/stable/user_guide/indexing.html#returning-a-view-versus-a-copy\n  df['Month'] = df.Dated.dt.month\n/tmp/ipykernel_86653/4224403825.py:17: SettingWithCopyWarning: \nA value is trying to be set on a copy of a slice from a DataFrame.\nTry using .loc[row_indexer,col_indexer] = value instead\n\nSee the caveats in the documentation: https://pandas.pydata.org/pandas-docs/stable/user_guide/indexing.html#returning-a-view-versus-a-copy\n  df['Day'] = df.Dated.dt.day\n/tmp/ipykernel_86653/4224403825.py:18: SettingWithCopyWarning: \nA value is trying to be set on a copy of a slice from a DataFrame.\nTry using .loc[row_indexer,col_indexer] = value instead\n\nSee the caveats in the documentation: https://pandas.pydata.org/pandas-docs/stable/user_guide/indexing.html#returning-a-view-versus-a-copy\n  df['Week'] = df.Dated.dt.isocalendar().week\n/tmp/ipykernel_86653/4224403825.py:19: SettingWithCopyWarning: \nA value is trying to be set on a copy of a slice from a DataFrame.\nTry using .loc[row_indexer,col_indexer] = value instead\n\nSee the caveats in the documentation: https://pandas.pydata.org/pandas-docs/stable/user_guide/indexing.html#returning-a-view-versus-a-copy\n  df['WeekDay'] = df.Dated.dt.weekday\n",
                    "output_type": "stream"
                }
            ],
            "execution_count": 284
        },
        {
            "cell_type": "code",
            "source": [
                "# Actions per ReportID\n",
                "# There are an average of 12 actions for each report\n",
                "s_nas.groupby('NASReport_ID').size().mean()\n",
                "\n",
                "\n",
                "# Users per ReportID\n",
                "# On average, 3 different people will view report\n",
                "s_nas.groupby('NASReport_ID')['User_ID'].nunique().mean()\n",
                "\n",
                "\n",
                "\n",
                "# Life of ReportID\n",
                "report_lifetime = s_nas.groupby('NASReport_ID')['Dated'].max() - s_nas.groupby('NASReport_ID')['Dated'].min()\n",
                "# Drill down to time between actions\n",
                ""
            ],
            "metadata": {
                "azdata_cell_guid": "02f46a97-397c-4738-9bb2-6b5907ab502d",
                "language": "python"
            },
            "outputs": [
                {
                    "data": {
                        "text/plain": "3.017699115044248"
                    },
                    "metadata": {},
                    "execution_count": 288,
                    "output_type": "execute_result"
                }
            ],
            "execution_count": 288
        },
        {
            "cell_type": "code",
            "source": [
                "# Number of Actions\n",
                "N_unique = s_nas.nunique().reset_index(name='UniqueValues')\n",
                "\n",
                "\n",
                "# GroupBy ReportID, UserID, Date\n",
                "# https://www.shanelynn.ie/summarising-aggregation-and-grouping-data-in-python-pandas/\n",
                "\n",
                "actions_by_report = s_nas.groupby('NASReport_ID')\n",
                "actions_by_date = s_nas.groupby('Date')\n",
                "actions_by_user = s_nas.groupby('User_ID')\n",
                "\n",
                "N_unique\n",
                ""
            ],
            "metadata": {
                "language": "python",
                "azdata_cell_guid": "2b4ee592-b500-491e-8a51-4185cdbe3cec"
            },
            "outputs": [
                {
                    "data": {
                        "text/plain": "           index  UniqueValues\n0       S_NAS_ID          4084\n1        User_ID            14\n2     IP_Address             9\n3         Action            24\n4          Dated          3179\n5   Browser_Used             2\n6   NASReport_ID           339\n7           Date           168\n8           Year             2\n9          Month             6\n10           Day            31\n11          Week            25\n12       WeekDay             7\n13  SimpleAction             2",
                        "text/html": "<div>\n<style scoped>\n    .dataframe tbody tr th:only-of-type {\n        vertical-align: middle;\n    }\n\n    .dataframe tbody tr th {\n        vertical-align: top;\n    }\n\n    .dataframe thead th {\n        text-align: right;\n    }\n</style>\n<table border=\"1\" class=\"dataframe\">\n  <thead>\n    <tr style=\"text-align: right;\">\n      <th></th>\n      <th>index</th>\n      <th>UniqueValues</th>\n    </tr>\n  </thead>\n  <tbody>\n    <tr>\n      <th>0</th>\n      <td>S_NAS_ID</td>\n      <td>4084</td>\n    </tr>\n    <tr>\n      <th>1</th>\n      <td>User_ID</td>\n      <td>14</td>\n    </tr>\n    <tr>\n      <th>2</th>\n      <td>IP_Address</td>\n      <td>9</td>\n    </tr>\n    <tr>\n      <th>3</th>\n      <td>Action</td>\n      <td>24</td>\n    </tr>\n    <tr>\n      <th>4</th>\n      <td>Dated</td>\n      <td>3179</td>\n    </tr>\n    <tr>\n      <th>5</th>\n      <td>Browser_Used</td>\n      <td>2</td>\n    </tr>\n    <tr>\n      <th>6</th>\n      <td>NASReport_ID</td>\n      <td>339</td>\n    </tr>\n    <tr>\n      <th>7</th>\n      <td>Date</td>\n      <td>168</td>\n    </tr>\n    <tr>\n      <th>8</th>\n      <td>Year</td>\n      <td>2</td>\n    </tr>\n    <tr>\n      <th>9</th>\n      <td>Month</td>\n      <td>6</td>\n    </tr>\n    <tr>\n      <th>10</th>\n      <td>Day</td>\n      <td>31</td>\n    </tr>\n    <tr>\n      <th>11</th>\n      <td>Week</td>\n      <td>25</td>\n    </tr>\n    <tr>\n      <th>12</th>\n      <td>WeekDay</td>\n      <td>7</td>\n    </tr>\n    <tr>\n      <th>13</th>\n      <td>SimpleAction</td>\n      <td>2</td>\n    </tr>\n  </tbody>\n</table>\n</div>"
                    },
                    "metadata": {},
                    "execution_count": 303,
                    "output_type": "execute_result"
                }
            ],
            "execution_count": 303
        },
        {
            "cell_type": "code",
            "source": [
                "# Analysis by Date\n",
                "\n",
                "by_date = actions_by_date.size().reset_index(name='ActionCount')\n",
                "\n",
                "mean_actions_per_day = by_date['ActionCount'].mean()\n",
                "\n",
                "x, y = by_date['Date'], by_date['ActionCount']\n",
                "\n",
                "\n",
                "plt.close(\"all\")\n",
                "plt.figure()\n",
                "\n",
                "plt.bar(x, y)\n",
                "plt.axhline(y=mean_actions_per_day, color='red', linestyle='--')\n",
                "\n",
                ""
            ],
            "metadata": {
                "language": "python",
                "azdata_cell_guid": "e2c97514-3492-4969-a322-5bc7cd7abcb2",
                "tags": []
            },
            "outputs": [
                {
                    "data": {
                        "text/plain": "<Figure size 432x288 with 1 Axes>",
                        "image/png": "[encoded data removed]"
                    },
                    "metadata": {
                        "needs_background": "light"
                    },
                    "output_type": "display_data"
                },
                {
                    "data": {
                        "text/plain": "           Date  ActionCount\n0    2021-12-10            3\n1    2021-12-11            3\n2    2021-12-12            2\n3    2021-12-13            3\n4    2021-12-14           13\n..          ...          ...\n163  2022-05-22            7\n164  2022-05-23           33\n165  2022-05-24           22\n166  2022-05-25            8\n167  2022-05-26           12\n\n[168 rows x 2 columns]",
                        "text/html": "<div>\n<style scoped>\n    .dataframe tbody tr th:only-of-type {\n        vertical-align: middle;\n    }\n\n    .dataframe tbody tr th {\n        vertical-align: top;\n    }\n\n    .dataframe thead th {\n        text-align: right;\n    }\n</style>\n<table border=\"1\" class=\"dataframe\">\n  <thead>\n    <tr style=\"text-align: right;\">\n      <th></th>\n      <th>Date</th>\n      <th>ActionCount</th>\n    </tr>\n  </thead>\n  <tbody>\n    <tr>\n      <th>0</th>\n      <td>2021-12-10</td>\n      <td>3</td>\n    </tr>\n    <tr>\n      <th>1</th>\n      <td>2021-12-11</td>\n      <td>3</td>\n    </tr>\n    <tr>\n      <th>2</th>\n      <td>2021-12-12</td>\n      <td>2</td>\n    </tr>\n    <tr>\n      <th>3</th>\n      <td>2021-12-13</td>\n      <td>3</td>\n    </tr>\n    <tr>\n      <th>4</th>\n      <td>2021-12-14</td>\n      <td>13</td>\n    </tr>\n    <tr>\n      <th>...</th>\n      <td>...</td>\n      <td>...</td>\n    </tr>\n    <tr>\n      <th>163</th>\n      <td>2022-05-22</td>\n      <td>7</td>\n    </tr>\n    <tr>\n      <th>164</th>\n      <td>2022-05-23</td>\n      <td>33</td>\n    </tr>\n    <tr>\n      <th>165</th>\n      <td>2022-05-24</td>\n      <td>22</td>\n    </tr>\n    <tr>\n      <th>166</th>\n      <td>2022-05-25</td>\n      <td>8</td>\n    </tr>\n    <tr>\n      <th>167</th>\n      <td>2022-05-26</td>\n      <td>12</td>\n    </tr>\n  </tbody>\n</table>\n<p>168 rows × 2 columns</p>\n</div>"
                    },
                    "metadata": {},
                    "execution_count": 320,
                    "output_type": "execute_result"
                }
            ],
            "execution_count": 320
        },
        {
            "cell_type": "code",
            "source": [
                "import matplotlib.pyplot as plt\n",
                "plt.close(\"all\")\n",
                "plt.figure()\n",
                "x = actions_by_report.NASReport_ID\n",
                "y = actions_by_report.ActionCount\n",
                "\n",
                "plt.bar(x, y)\n",
                "plt.line(y = mean_actions_per_day)\n",
                "\n",
                "\n",
                "\n",
                "\n",
                ""
            ],
            "metadata": {
                "language": "python",
                "azdata_cell_guid": "9327f582-8a6c-4e03-99eb-2b5834086175"
            },
            "outputs": [
                {
                    "traceback": [
                        "\u001b[0;31m---------------------------------------------------------------------------\u001b[0m",
                        "\u001b[0;31mAttributeError\u001b[0m                            Traceback (most recent call last)",
                        "\u001b[0;32m/tmp/ipykernel_86653/1112783349.py\u001b[0m in \u001b[0;36m<module>\u001b[0;34m\u001b[0m\n\u001b[1;32m      3\u001b[0m \u001b[0mplt\u001b[0m\u001b[0;34m.\u001b[0m\u001b[0mfigure\u001b[0m\u001b[0;34m(\u001b[0m\u001b[0;34m)\u001b[0m\u001b[0;34m\u001b[0m\u001b[0;34m\u001b[0m\u001b[0m\n\u001b[1;32m      4\u001b[0m \u001b[0mx\u001b[0m \u001b[0;34m=\u001b[0m \u001b[0mactions_by_report\u001b[0m\u001b[0;34m.\u001b[0m\u001b[0mNASReport_ID\u001b[0m\u001b[0;34m\u001b[0m\u001b[0;34m\u001b[0m\u001b[0m\n\u001b[0;32m----> 5\u001b[0;31m \u001b[0my\u001b[0m \u001b[0;34m=\u001b[0m \u001b[0mactions_by_report\u001b[0m\u001b[0;34m.\u001b[0m\u001b[0mActionCount\u001b[0m\u001b[0;34m\u001b[0m\u001b[0;34m\u001b[0m\u001b[0m\n\u001b[0m\u001b[1;32m      6\u001b[0m \u001b[0;34m\u001b[0m\u001b[0m\n\u001b[1;32m      7\u001b[0m \u001b[0mplt\u001b[0m\u001b[0;34m.\u001b[0m\u001b[0mbar\u001b[0m\u001b[0;34m(\u001b[0m\u001b[0mx\u001b[0m\u001b[0;34m,\u001b[0m \u001b[0my\u001b[0m\u001b[0;34m)\u001b[0m\u001b[0;34m\u001b[0m\u001b[0;34m\u001b[0m\u001b[0m\n",
                        "\u001b[0;32m~/.local/lib/python3.8/site-packages/pandas/core/groupby/groupby.py\u001b[0m in \u001b[0;36m__getattr__\u001b[0;34m(self, attr)\u001b[0m\n\u001b[1;32m    909\u001b[0m             \u001b[0;32mreturn\u001b[0m \u001b[0mself\u001b[0m\u001b[0;34m[\u001b[0m\u001b[0mattr\u001b[0m\u001b[0;34m]\u001b[0m\u001b[0;34m\u001b[0m\u001b[0;34m\u001b[0m\u001b[0m\n\u001b[1;32m    910\u001b[0m \u001b[0;34m\u001b[0m\u001b[0m\n\u001b[0;32m--> 911\u001b[0;31m         raise AttributeError(\n\u001b[0m\u001b[1;32m    912\u001b[0m             \u001b[0;34mf\"'{type(self).__name__}' object has no attribute '{attr}'\"\u001b[0m\u001b[0;34m\u001b[0m\u001b[0;34m\u001b[0m\u001b[0m\n\u001b[1;32m    913\u001b[0m         )\n",
                        "\u001b[0;31mAttributeError\u001b[0m: 'DataFrameGroupBy' object has no attribute 'ActionCount'"
                    ],
                    "ename": "AttributeError",
                    "evalue": "'DataFrameGroupBy' object has no attribute 'ActionCount'",
                    "output_type": "error"
                },
                {
                    "data": {
                        "text/plain": "<Figure size 432x288 with 0 Axes>"
                    },
                    "metadata": {},
                    "output_type": "display_data"
                }
            ],
            "execution_count": 315
        },
        {
            "cell_type": "code",
            "source": [
                "# Sent is the dominant action, although there are many views as well\n",
                "s_nas.groupby('SimpleAction').size() \n",
                "\n",
                "# Now analyze who sends to who\n",
                "s_nas.groupby(['SimpleAction', 'User_ID']).reset_index()\n",
                "\n",
                "\n",
                ""
            ],
            "metadata": {
                "language": "python",
                "azdata_cell_guid": "5776348c-cd4d-4433-b385-bdcf7263bd5a"
            },
            "outputs": [
                {
                    "traceback": [
                        "\u001b[0;31m---------------------------------------------------------------------------\u001b[0m",
                        "\u001b[0;31mAttributeError\u001b[0m                            Traceback (most recent call last)",
                        "\u001b[0;32m/tmp/ipykernel_86653/94933914.py\u001b[0m in \u001b[0;36m<module>\u001b[0;34m\u001b[0m\n\u001b[1;32m      3\u001b[0m \u001b[0;34m\u001b[0m\u001b[0m\n\u001b[1;32m      4\u001b[0m \u001b[0;31m# Now analyze who sends to who\u001b[0m\u001b[0;34m\u001b[0m\u001b[0;34m\u001b[0m\u001b[0;34m\u001b[0m\u001b[0m\n\u001b[0;32m----> 5\u001b[0;31m \u001b[0ms_nas\u001b[0m\u001b[0;34m.\u001b[0m\u001b[0mgroupby\u001b[0m\u001b[0;34m(\u001b[0m\u001b[0;34m[\u001b[0m\u001b[0;34m'SimpleAction'\u001b[0m\u001b[0;34m,\u001b[0m \u001b[0;34m'User_ID'\u001b[0m\u001b[0;34m]\u001b[0m\u001b[0;34m)\u001b[0m\u001b[0;34m.\u001b[0m\u001b[0mreset_index\u001b[0m\u001b[0;34m(\u001b[0m\u001b[0;34m)\u001b[0m\u001b[0;34m\u001b[0m\u001b[0;34m\u001b[0m\u001b[0m\n\u001b[0m\u001b[1;32m      6\u001b[0m \u001b[0;34m\u001b[0m\u001b[0m\n\u001b[1;32m      7\u001b[0m \u001b[0;34m\u001b[0m\u001b[0m\n",
                        "\u001b[0;32m~/.local/lib/python3.8/site-packages/pandas/core/groupby/groupby.py\u001b[0m in \u001b[0;36m__getattr__\u001b[0;34m(self, attr)\u001b[0m\n\u001b[1;32m    909\u001b[0m             \u001b[0;32mreturn\u001b[0m \u001b[0mself\u001b[0m\u001b[0;34m[\u001b[0m\u001b[0mattr\u001b[0m\u001b[0;34m]\u001b[0m\u001b[0;34m\u001b[0m\u001b[0;34m\u001b[0m\u001b[0m\n\u001b[1;32m    910\u001b[0m \u001b[0;34m\u001b[0m\u001b[0m\n\u001b[0;32m--> 911\u001b[0;31m         raise AttributeError(\n\u001b[0m\u001b[1;32m    912\u001b[0m             \u001b[0;34mf\"'{type(self).__name__}' object has no attribute '{attr}'\"\u001b[0m\u001b[0;34m\u001b[0m\u001b[0;34m\u001b[0m\u001b[0m\n\u001b[1;32m    913\u001b[0m         )\n",
                        "\u001b[0;31mAttributeError\u001b[0m: 'DataFrameGroupBy' object has no attribute 'reset_index'"
                    ],
                    "ename": "AttributeError",
                    "evalue": "'DataFrameGroupBy' object has no attribute 'reset_index'",
                    "output_type": "error"
                }
            ],
            "execution_count": 301
        },
        {
            "cell_type": "code",
            "source": [
                "# Accor Users Send Report to YML Users \n",
                "yml_notifications = s_nas[s_nas['Action'].str.contains('ymlgroup.com.au.')]\n",
                "reports_notified = yml_notifications['NASReport_ID'].nunique()\n",
                "yml_notifications\n",
                "\n",
                "\n",
                ""
            ],
            "metadata": {
                "language": "python",
                "azdata_cell_guid": "92f7d7a9-bd9d-4605-9567-6fc718deea36"
            },
            "outputs": [
                {
                    "data": {
                        "text/plain": "(6850, 7)"
                    },
                    "metadata": {},
                    "execution_count": 36,
                    "output_type": "execute_result"
                }
            ],
            "execution_count": 36
        },
        {
            "cell_type": "code",
            "source": [
                "naslogs.shape\n",
                ""
            ],
            "metadata": {
                "language": "python",
                "azdata_cell_guid": "c14bd71e-100a-4c2a-b7d2-0c8252fce2b7"
            },
            "outputs": [
                {
                    "data": {
                        "text/plain": "(1000, 9)"
                    },
                    "metadata": {},
                    "execution_count": 37,
                    "output_type": "execute_result"
                }
            ],
            "execution_count": 37
        }
    ]
}