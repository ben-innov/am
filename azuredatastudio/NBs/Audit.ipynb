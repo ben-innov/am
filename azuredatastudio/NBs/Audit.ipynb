{
    "metadata": {
        "kernelspec": {
            "name": "python3",
            "display_name": "Python 3 (ipykernel)",
            "language": "python"
        },
        "language_info": {
            "name": "python",
            "version": "3.8.10",
            "mimetype": "text/x-python",
            "codemirror_mode": {
                "name": "ipython",
                "version": 3
            },
            "pygments_lexer": "ipython3",
            "nbconvert_exporter": "python",
            "file_extension": ".py"
        }
    },
    "nbformat_minor": 2,
    "nbformat": 4,
    "cells": [
        {
            "cell_type": "code",
            "source": [
                "import pandas as pd\n",
                "\n",
                "naslogs = pd.read_csv('data/naslogs.csv')\n",
                "\n",
                "nasreport = pd.read_csv('data/nasreport.csv')\n",
                "\n",
                "auditlogs = pd.read_csv('data/auditlogs.csv')"
            ],
            "metadata": {
                "azdata_cell_guid": "b88dd54e-e447-4799-810f-f0fe485ef3c8",
                "language": "python"
            },
            "outputs": [],
            "execution_count": 4
        },
        {
            "cell_type": "code",
            "source": [
                ""
            ],
            "metadata": {
                "language": "python",
                "azdata_cell_guid": "92f7d7a9-bd9d-4605-9567-6fc718deea36"
            },
            "outputs": [],
            "execution_count": null
        }
    ]
}